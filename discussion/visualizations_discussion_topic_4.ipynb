{
 "cells": [
  {
   "cell_type": "markdown",
   "id": "9ac32937-7672-4b04-b6b5-2b8b3d4a3623",
   "metadata": {},
   "source": [
    "# Discussion Worksheet: Visualizations Topic 4"
   ]
  },
  {
   "cell_type": "markdown",
   "id": "065758e1-65bf-4086-b1d4-0be9e6f8ee6c",
   "metadata": {},
   "source": [
    "_You will use the following set up and data to come up with an answer and visual for at least one question from each of the parts listed below._"
   ]
  },
  {
   "cell_type": "code",
   "execution_count": 1,
   "id": "3c2b5b6b-b987-437d-a898-91bb6c4a02ca",
   "metadata": {},
   "outputs": [],
   "source": [
    "from datascience import *\n",
    "import numpy as np\n",
    "%matplotlib inline\n",
    "import matplotlib.pyplot as plots\n",
    "plots.style.use('fivethirtyeight')"
   ]
  },
  {
   "cell_type": "markdown",
   "id": "561b37e5-3a1b-43ef-bba7-5c0782c2bd76",
   "metadata": {},
   "source": [
    "Run the following code cell to load the survey data as the table `survey`.\n",
    "* The data has not been cleaned, so you will find missing (`nan`) data and other issues.\n",
    "* The column labels are codes for the survey questions.\n",
    "* Review the [translation of the codes](https://github.com/ccsf-math-108/materials-fa23/blob/main/resources/welcome_survey_codes.md)."
   ]
  },
  {
   "cell_type": "code",
   "execution_count": 3,
   "id": "1fc34c7f-005d-4036-a8ce-31b7c95e8867",
   "metadata": {},
   "outputs": [
    {
     "data": {
      "text/html": [
       "<table border=\"1\" class=\"dataframe\">\n",
       "    <thead>\n",
       "        <tr>\n",
       "            <th>Timestamp</th> <th>crn</th> <th>age</th> <th>da_cert</th> <th>ds_deg</th> <th>us</th> <th>math_ed_exp</th> <th>prior_python</th> <th>prior_programming</th> <th>bird_owl</th> <th>cat_dog</th> <th>assignment_time</th> <th>getting_help</th> <th>career_change</th> <th>commute_time</th> <th>friends</th> <th>work_hours</th> <th>zipcode</th> <th>num_countries</th> <th>movie_genres</th> <th>ed_level</th> <th>vet</th> <th>social</th> <th>assignment_hours</th> <th>assignment_days</th> <th>berkeley</th> <th>seq_length</th> <th>frisco_perc</th> <th>prior_stats</th> <th>course_units</th> <th>work_status</th> <th>starting_salaray</th> <th>bacon_games</th> <th>park_annual_freq</th> <th>math_108_prep</th> <th>sports</th> <th>public_transit_freq</th> <th>first_semester</th> <th>cert_degree</th> <th>study_space</th> <th>language_num</th> <th>wake_up_time</th> <th>reaction_time_ms</th> <th>bday</th> <th>self_care</th> <th>study_groups</th> <th>course_challenge</th> <th>se_status</th> <th>in_persion</th> <th>course_support</th> <th>decision_intuition</th> <th>decision_priority</th> <th>daily_life</th> <th>finger_length_mm</th> <th>ovd_length</th> <th>sleep_time</th> <th>Score</th>\n",
       "        </tr>\n",
       "    </thead>\n",
       "    <tbody>\n",
       "        <tr>\n",
       "            <td>9/6/2023 13:24:26</td> <td>[CRN: 73040] MW: 11:10 - 1:40 pm</td> <td>23  </td> <td>Yes    </td> <td>No    </td> <td>Yes </td> <td>4          </td> <td>Yes         </td> <td>5                </td> <td>nan     </td> <td>Both   </td> <td>9              </td> <td>9           </td> <td>Yes          </td> <td>0:50:00     </td> <td>5      </td> <td>0         </td> <td>94110  </td> <td>8            </td> <td>Classic, Dramas, Horror</td> <td>Bachelor’s degree   </td> <td>No  </td> <td>With a group</td> <td>2 pm - 6 pm     </td> <td>Wednesday, Friday</td> <td>No, and I don't plan to transfer to UCB</td> <td>10        </td> <td>2          </td> <td>7          </td> <td>19          </td> <td>nan        </td> <td>80000           </td> <td>GAMES. UNLIMITED GAMES. BUT NO GAMES.</td> <td>78              </td> <td>8            </td> <td>Yes   </td> <td>18                 </td> <td>No            </td> <td>Data Analytics Fundamentals Certificate of Achievement</td> <td>4          </td> <td>1           </td> <td>8:30:00 AM  </td> <td>314             </td> <td>11/6 </td> <td>Physical, Emotional, Mental, Social</td> <td>Maybe       </td> <td>Managing time to balance the courseload with the other c ...</td> <td>Middle   </td> <td>IN-PERSON </td> <td>Virtual Math Lab Tutor, Instructor, Web Search  </td> <td>Concrete facts and details</td> <td>Impact on people and emotions</td> <td>Flexible and adaptable</td> <td>nan             </td> <td>nan       </td> <td>12:30:00 AM</td> <td>nan  </td>\n",
       "        </tr>\n",
       "        <tr>\n",
       "            <td>9/6/2023 14:53:40</td> <td>[CRN: 73040] MW: 11:10 - 1:40 pm</td> <td>23  </td> <td>No     </td> <td>No    </td> <td>No  </td> <td>3          </td> <td>Yes         </td> <td>6                </td> <td>nan     </td> <td>Dogs   </td> <td>10             </td> <td>6           </td> <td>No           </td> <td>1:30:00     </td> <td>2      </td> <td>0         </td> <td>94506  </td> <td>4            </td> <td>Classic                </td> <td>High school graduate</td> <td>No  </td> <td>Alone       </td> <td>6 pm - 10 pm    </td> <td>Monday, Wednesday</td> <td>No, and I don't plan to transfer to UCB</td> <td>0         </td> <td>5          </td> <td>5          </td> <td>12          </td> <td>nan        </td> <td>0               </td> <td>GAMES. UNLIMITED GAMES. BUT NO GAMES.</td> <td>1               </td> <td>5            </td> <td>Yes   </td> <td>11                 </td> <td>Yes           </td> <td>real estate                                           </td> <td>3          </td> <td>0           </td> <td>9:00:00 AM  </td> <td>0               </td> <td>11/10</td> <td>Physical, Emotional, Mental        </td> <td>Maybe       </td> <td>discussions                                                 </td> <td>Middle   </td> <td>IN-PERSON </td> <td>In-person Math Lab Tutor, Instructor, Web Search</td> <td>Concrete facts and details</td> <td>Impact on people and emotions</td> <td>Flexible and adaptable</td> <td>4               </td> <td>2         </td> <td>12:00:00 AM</td> <td>nan  </td>\n",
       "        </tr>\n",
       "    </tbody>\n",
       "</table>\n",
       "<p>... (34 rows omitted)</p>"
      ],
      "text/plain": [
       "<IPython.core.display.HTML object>"
      ]
     },
     "metadata": {},
     "output_type": "display_data"
    }
   ],
   "source": [
    "url = 'https://raw.githubusercontent.com/ccsf-math-108/materials-fa23/main/resources/welcome_survey_fa23.csv'\n",
    "survey = Table.read_table(url)\n",
    "survey.show(2)"
   ]
  },
  {
   "cell_type": "markdown",
   "id": "c348e235-5915-4827-abaa-ea4a738f93a5",
   "metadata": {},
   "source": [
    "## Part A"
   ]
  },
  {
   "cell_type": "markdown",
   "id": "3b32074c-cd2a-429b-93f8-575c0d066e23",
   "metadata": {},
   "source": [
    "Answer at least one of the following questions using a visual that you create from the data set:\n",
    "1. How old are the people in MATH 108?\n",
    "2. What are the educational backgrounds of people in MATH 108?"
   ]
  },
  {
   "cell_type": "code",
   "execution_count": null,
   "id": "3fd0dae1-7ae4-4935-a408-bc4c1735da6f",
   "metadata": {},
   "outputs": [],
   "source": [
    "..."
   ]
  },
  {
   "cell_type": "markdown",
   "id": "0c9fdc5a-b556-4e07-897b-72ad237291f6",
   "metadata": {},
   "source": [
    "## Part B"
   ]
  },
  {
   "cell_type": "markdown",
   "id": "3ed6ab7d-3b59-4a3c-9158-9798b987b48a",
   "metadata": {},
   "source": [
    "Answer at least one of the following questions using a visual that you create from the data set:\n",
    "1. How likely are people to ask for help given their comfort level with programming or statistics?\n",
    "2. Do our reaction times change as we age?"
   ]
  },
  {
   "cell_type": "code",
   "execution_count": null,
   "id": "5190daee-a1fe-4254-9e13-464748d280f9",
   "metadata": {},
   "outputs": [],
   "source": [
    "..."
   ]
  }
 ],
 "metadata": {
  "kernelspec": {
   "display_name": "Python 3 (ipykernel)",
   "language": "python",
   "name": "python3"
  },
  "language_info": {
   "codemirror_mode": {
    "name": "ipython",
    "version": 3
   },
   "file_extension": ".py",
   "mimetype": "text/x-python",
   "name": "python",
   "nbconvert_exporter": "python",
   "pygments_lexer": "ipython3",
   "version": "3.10.12"
  }
 },
 "nbformat": 4,
 "nbformat_minor": 5
}
